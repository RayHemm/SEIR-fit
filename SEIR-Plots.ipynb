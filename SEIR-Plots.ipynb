{
 "cells": [
  {
   "cell_type": "markdown",
   "metadata": {},
   "source": [
    "# Simulation der Ausbreitung von SARS-CoV-2 mit dem SEIR-Modell\n",
    "\n",
    "Das SEIR-Modell verwendet ein System aus Differenzialgleichungen, um die Pandemie zu simulieren. Das Python-Modul SciPy enthält die Funktionen `odeint()` und `curve_fit()`, um das SEIR-Modell zu berechnen und einige ausgewählte Parameter so zu optimieren, damit sie zu den von der John-Hopkins-Universität gemeldeten Fallzahlen für Deutschland passen.\n",
    "\n",
    "Die Simulation beginnt mit einigen Imports:"
   ]
  },
  {
   "cell_type": "code",
   "execution_count": 1,
   "metadata": {},
   "outputs": [],
   "source": [
    "from IPython.display import display, Markdown, HTML, IFrame\n",
    "from equations import SEIR\n",
    "from scipy.integrate import odeint\n",
    "from scipy.optimize import curve_fit\n",
    "import datetime as dt\n",
    "import numpy as np\n",
    "import pandas as pd\n",
    "import altair as alt\n",
    "import requests\n",
    "import os"
   ]
  },
  {
   "cell_type": "markdown",
   "metadata": {},
   "source": [
    "Die Implementierung des Modells steht in der Klasse `SEIR` in [equations.py](https://github.com/pinae/SEIR-fit/blob/master/equations.py).\n",
    "\n",
    "Aktuelle Zahlen der John-Hopkins-Universität liefert der folgende Webdienst praktischerweise bereits als JSON aufbereitet (die Ausgabe enthält die neuesten vier Zahlen):"
   ]
  },
  {
   "cell_type": "code",
   "execution_count": 2,
   "metadata": {},
   "outputs": [
    {
     "data": {
      "text/html": [
       "<div>\n",
       "<style scoped>\n",
       "    .dataframe tbody tr th:only-of-type {\n",
       "        vertical-align: middle;\n",
       "    }\n",
       "\n",
       "    .dataframe tbody tr th {\n",
       "        vertical-align: top;\n",
       "    }\n",
       "\n",
       "    .dataframe thead th {\n",
       "        text-align: right;\n",
       "    }\n",
       "</style>\n",
       "<table border=\"1\" class=\"dataframe\">\n",
       "  <thead>\n",
       "    <tr style=\"text-align: right;\">\n",
       "      <th></th>\n",
       "      <th>Tag</th>\n",
       "      <th>Fallzahl</th>\n",
       "    </tr>\n",
       "  </thead>\n",
       "  <tbody>\n",
       "    <tr>\n",
       "      <th>78</th>\n",
       "      <td>2020-04-09</td>\n",
       "      <td>118181</td>\n",
       "    </tr>\n",
       "    <tr>\n",
       "      <th>79</th>\n",
       "      <td>2020-04-10</td>\n",
       "      <td>122171</td>\n",
       "    </tr>\n",
       "    <tr>\n",
       "      <th>80</th>\n",
       "      <td>2020-04-11</td>\n",
       "      <td>124908</td>\n",
       "    </tr>\n",
       "    <tr>\n",
       "      <th>81</th>\n",
       "      <td>2020-04-12</td>\n",
       "      <td>127854</td>\n",
       "    </tr>\n",
       "  </tbody>\n",
       "</table>\n",
       "</div>"
      ],
      "text/plain": [
       "          Tag Fallzahl\n",
       "78 2020-04-09   118181\n",
       "79 2020-04-10   122171\n",
       "80 2020-04-11   124908\n",
       "81 2020-04-12   127854"
      ]
     },
     "execution_count": 2,
     "metadata": {},
     "output_type": "execute_result"
    }
   ],
   "source": [
    "germany_json = requests.get(\"https://corona.ersatzworld.net/data/Germany.json\").json()\n",
    "data = pd.DataFrame(np.stack([\n",
    "        [dt.datetime.strptime(d, \"%Y-%m-%d\") for d in germany_json[\"dates\"]], \n",
    "        germany_json[\"total\"]\n",
    "    ], axis=1), \n",
    "    columns=(\"Tag\", \"Fallzahl\"))\n",
    "data.tail(4)"
   ]
  },
  {
   "cell_type": "markdown",
   "metadata": {},
   "source": [
    "Der nächste Schritt berechnet das `SEIR`-Modell und fittet vier Parameter, damit das Modell möglichst gut zu den Daten aus `data` passt. \n",
    "\n",
    "Die Simulation beginnt am 27.2.2020 (erste Zeile). Am 20.3.2020 und am 28.3.2020 wirkten sich Ausgangsbeschränkungen und eine Kontaktsperre auf die Zahlen aus, sodass das SEIR-Modell für die Zeiträume vor, zwischen und nach diesen Terminen unterschiedliche Werte für $R_{0}$ annimmt. Diese drei Werte sind die ersten drei  Parameter der Optimierung mit `curve_fit()`. Als vierten Parameter ermittelt die Optimierung auch den unbekannten Wert $E_{0}$, die zahl der infizierten aber noch nicht infektiösen Corona-Patienten am 27. Februar."
   ]
  },
  {
   "cell_type": "code",
   "execution_count": 3,
   "metadata": {},
   "outputs": [
    {
     "data": {
      "text/markdown": [
       "Ergebnis der Optimierung mit `curve_fit()`:\n",
       "\n",
       " 1. $R_{0}$ ohne Einschränkungen: 3.690\n",
       "\n",
       " 2. $R_{0}$ mit Ausgangsbeschränkungen: 2.418\n",
       "\n",
       " 3. $R_{0}$ mit Kontaktsperre: 1.015\n",
       "\n",
       " 4. $E_{0}$: 0.1"
      ],
      "text/plain": [
       "<IPython.core.display.Markdown object>"
      ]
     },
     "metadata": {},
     "output_type": "display_data"
    }
   ],
   "source": [
    "data = data[data[\"Tag\"] >= dt.datetime(year=2020, month=2, day=27)].reset_index(drop=True)\n",
    "\n",
    "it1 = dt.datetime(year=2020, month=3, day=20)\n",
    "it2 = dt.datetime(year=2020, month=3, day=28)\n",
    "it3 = dt.datetime(year=2020, month=4, day=20)\n",
    "it4 = dt.datetime(year=2020, month=4, day=20)\n",
    "cases = np.array(data[\"Fallzahl\"])\n",
    "bev_de = germany_json[\"population\"]\n",
    "times = np.arange(0., len(cases), 1.0)\n",
    "model = SEIR(p0=(bev_de-data[\"Fallzahl\"][0], 0, data[\"Fallzahl\"][0], 0),\n",
    "             intervention_times=[(it1-data[\"Tag\"][0]).days, \n",
    "                                 (it2-data[\"Tag\"][0]).days, \n",
    "                                 (data[\"Tag\"][len(cases)-1]-data[\"Tag\"][0]).days, \n",
    "                                 (data[\"Tag\"][len(cases)-1]-data[\"Tag\"][0]).days],\n",
    "             t_vals=times)\n",
    "\n",
    "params, _ = curve_fit(\n",
    "    model, \n",
    "    xdata=times, \n",
    "    ydata=cases,\n",
    "    p0=[3., 2., 1., 0.],\n",
    "    bounds=(\n",
    "        [0., 0., 0., 0.],\n",
    "        [10., 10., 10., bev_de]\n",
    "    ))\n",
    "display(Markdown(\"Ergebnis der Optimierung mit `curve_fit()`:\\n\\n\" +\n",
    "    \" 1. $R_{0}$ \" + \"ohne Einschränkungen: {0:.3f}\".format(params[0]) + \"\\n\\n\" +\n",
    "    \" 2. $R_{0}$ \" + \"mit Ausgangsbeschränkungen: {0:.3f}\".format(params[1]) + \"\\n\\n\" +\n",
    "    \" 3. $R_{0}$ \" + \"mit Kontaktsperre: {0:.3f}\".format(params[2]) + \"\\n\\n\" +\n",
    "    \" 4. $E_{0}$\" + \": {0:.1f}\".format(params[3])))"
   ]
  },
  {
   "cell_type": "markdown",
   "metadata": {},
   "source": [
    "Mit diesen Parametern berechnet der folgende Code die Vorhersagen des Modells für 5 Tage in die Zukunft:"
   ]
  },
  {
   "cell_type": "code",
   "execution_count": 4,
   "metadata": {},
   "outputs": [],
   "source": [
    "r0, r1, r2, e0 = params\n",
    "prediction_days = 5\n",
    "times = np.arange(0., len(cases)+prediction_days, 1.0)\n",
    "seir_predictions = model.getSEIR(times, [r0, r1, r2, r2, r2], e0)\n",
    "sum_predictions = np.sum(seir_predictions[:, 1:], axis=1)"
   ]
  },
  {
   "cell_type": "markdown",
   "metadata": {},
   "source": [
    "Die Zahl der „Susceptible“, also der Menschen, die noch angesteckt werden könnten, bisher aber noch nicht infiziert sind, ist zu Beginn der Simulation sehr hoch (etwas weniger als die Bevölkerungszahl). Ein Diagramm, das 83 Millionen und 100.000 mit der gleichen y-Achse darstellt, würde die interessanten Fallzahlen nur sehr klein oberhalb der x-Achse anzeigen. Damit das nicht passiert, setzt die Funktion `clip_values()` hohe Werte auf `None`:"
   ]
  },
  {
   "cell_type": "code",
   "execution_count": 5,
   "metadata": {},
   "outputs": [],
   "source": [
    "def clip_values(v, max_val=bev_de):\n",
    "    return np.where(np.less_equal(v, max_val), v, None)"
   ]
  },
  {
   "cell_type": "markdown",
   "metadata": {},
   "source": [
    "Als Vorbereitung für ein Diagramm, an dem man leicht erkennt, wie gut die Simulation zu den echten Daten passt, packen die Folgenden Zeilen die nötigen Datenreihen hintereinander in ein Pandas-`DataFrame`. Anhand der Spalte `\"Typ\"` vergibt Alatair im Diagramm später die Farben der einzelnen Kurven."
   ]
  },
  {
   "cell_type": "code",
   "execution_count": 6,
   "metadata": {},
   "outputs": [
    {
     "data": {
      "text/html": [
       "<div>\n",
       "<style scoped>\n",
       "    .dataframe tbody tr th:only-of-type {\n",
       "        vertical-align: middle;\n",
       "    }\n",
       "\n",
       "    .dataframe tbody tr th {\n",
       "        vertical-align: top;\n",
       "    }\n",
       "\n",
       "    .dataframe thead th {\n",
       "        text-align: right;\n",
       "    }\n",
       "</style>\n",
       "<table border=\"1\" class=\"dataframe\">\n",
       "  <thead>\n",
       "    <tr style=\"text-align: right;\">\n",
       "      <th></th>\n",
       "      <th>Tag</th>\n",
       "      <th>Fallzahl</th>\n",
       "      <th>Typ</th>\n",
       "    </tr>\n",
       "  </thead>\n",
       "  <tbody>\n",
       "    <tr>\n",
       "      <th>0</th>\n",
       "      <td>2020-02-27</td>\n",
       "      <td>None</td>\n",
       "      <td>Susceptible</td>\n",
       "    </tr>\n",
       "    <tr>\n",
       "      <th>1</th>\n",
       "      <td>2020-02-28</td>\n",
       "      <td>None</td>\n",
       "      <td>Susceptible</td>\n",
       "    </tr>\n",
       "    <tr>\n",
       "      <th>2</th>\n",
       "      <td>2020-02-29</td>\n",
       "      <td>None</td>\n",
       "      <td>Susceptible</td>\n",
       "    </tr>\n",
       "    <tr>\n",
       "      <th>3</th>\n",
       "      <td>2020-03-01</td>\n",
       "      <td>None</td>\n",
       "      <td>Susceptible</td>\n",
       "    </tr>\n",
       "    <tr>\n",
       "      <th>4</th>\n",
       "      <td>2020-03-02</td>\n",
       "      <td>None</td>\n",
       "      <td>Susceptible</td>\n",
       "    </tr>\n",
       "    <tr>\n",
       "      <th>...</th>\n",
       "      <td>...</td>\n",
       "      <td>...</td>\n",
       "      <td>...</td>\n",
       "    </tr>\n",
       "    <tr>\n",
       "      <th>296</th>\n",
       "      <td>2020-04-08</td>\n",
       "      <td>113296</td>\n",
       "      <td>gezählte Fälle</td>\n",
       "    </tr>\n",
       "    <tr>\n",
       "      <th>297</th>\n",
       "      <td>2020-04-09</td>\n",
       "      <td>118181</td>\n",
       "      <td>gezählte Fälle</td>\n",
       "    </tr>\n",
       "    <tr>\n",
       "      <th>298</th>\n",
       "      <td>2020-04-10</td>\n",
       "      <td>122171</td>\n",
       "      <td>gezählte Fälle</td>\n",
       "    </tr>\n",
       "    <tr>\n",
       "      <th>299</th>\n",
       "      <td>2020-04-11</td>\n",
       "      <td>124908</td>\n",
       "      <td>gezählte Fälle</td>\n",
       "    </tr>\n",
       "    <tr>\n",
       "      <th>300</th>\n",
       "      <td>2020-04-12</td>\n",
       "      <td>127854</td>\n",
       "      <td>gezählte Fälle</td>\n",
       "    </tr>\n",
       "  </tbody>\n",
       "</table>\n",
       "<p>301 rows × 3 columns</p>\n",
       "</div>"
      ],
      "text/plain": [
       "           Tag Fallzahl             Typ\n",
       "0   2020-02-27     None     Susceptible\n",
       "1   2020-02-28     None     Susceptible\n",
       "2   2020-02-29     None     Susceptible\n",
       "3   2020-03-01     None     Susceptible\n",
       "4   2020-03-02     None     Susceptible\n",
       "..         ...      ...             ...\n",
       "296 2020-04-08   113296  gezählte Fälle\n",
       "297 2020-04-09   118181  gezählte Fälle\n",
       "298 2020-04-10   122171  gezählte Fälle\n",
       "299 2020-04-11   124908  gezählte Fälle\n",
       "300 2020-04-12   127854  gezählte Fälle\n",
       "\n",
       "[301 rows x 3 columns]"
      ]
     },
     "execution_count": 6,
     "metadata": {},
     "output_type": "execute_result"
    }
   ],
   "source": [
    "dates = [data[\"Tag\"][0] + dt.timedelta(days=i) for i in times]\n",
    "seir_data = pd.DataFrame(np.concatenate([\n",
    "    np.concatenate([np.stack([dates, clip_values(seir_predictions[:, i], cases[-1]*1.2), [t]*len(times)], axis=1)\n",
    "                    for i, t in enumerate([\"Susceptible\", \"Exposed\", \"Infectious\", \"Removed\"])]),\n",
    "    np.stack([dates, clip_values(sum_predictions, cases[-1]*1.2), [\"simulierte Summe\"]*len(times)], axis=1)]),\n",
    "    columns=(\"Tag\", \"Fallzahl\", \"Typ\")\n",
    ")\n",
    "data[\"Typ\"] = \"gezählte Fälle\"\n",
    "seir_data = seir_data.append(data, ignore_index=True)\n",
    "seir_data"
   ]
  },
  {
   "cell_type": "markdown",
   "metadata": {},
   "source": [
    "Die folgende Funktion erzeugt ein Diagramm mit mehreren Ebenen: Die Kurven und die Legende zeichnet `line`. Die `selection` `nearest` benutzt das interaktive Diagramm, um den Tag auszuwählen, der am besten zur Position der Maus passt. `points` zeichnet kleine Kringel über die Werte der Kurve an diesem Tag. `text` ergänzt den Zahlenwert der gekringelten Werte. `rules` zeichnet eine graue Linie, die den Tag hervorhebt und `date_text` schreibt den Tag als Text am oberen Rand des Diagramms aus. Die Funktion `alt.layer()` fügt all diese Elemente zu einem Diagramm zusammen.\n",
    "\n",
    "Die Funktion `plot()` nimmt neben dem Dataframe noch optionale Parameter für die Position der Legende und die Maße des gesamten Diagramms entgegen. Das Notebook verwendet sie später noch für weitere Diagramme mit anderen Skalen."
   ]
  },
  {
   "cell_type": "code",
   "execution_count": 7,
   "metadata": {},
   "outputs": [
    {
     "data": {
      "text/html": [
       "\n",
       "        <iframe\n",
       "            width=\"970\"\n",
       "            height=\"475\"\n",
       "            src=\"charts/fit-quality.html\"\n",
       "            frameborder=\"0\"\n",
       "            allowfullscreen\n",
       "        ></iframe>\n",
       "        "
      ],
      "text/plain": [
       "<IPython.lib.display.IFrame at 0x7f7630f21190>"
      ]
     },
     "execution_count": 7,
     "metadata": {},
     "output_type": "execute_result"
    }
   ],
   "source": [
    "def plot(data, legendX=20, legendY=20, width=830, height=400):\n",
    "    line = alt.Chart(data).mark_line(point=False).encode(\n",
    "        alt.X(\"Tag\", title=\"Tag\"),\n",
    "        alt.Y(\"Fallzahl:Q\", title=\"Fallzahl\"),\n",
    "        color=alt.Color(\"Typ:N\", \n",
    "                        scale=alt.Scale(scheme=\"dark2\"),\n",
    "                        legend=alt.Legend(\n",
    "            orient=\"none\", legendX=legendX, legendY=legendY,\n",
    "            fillColor=\"white\", strokeColor=\"black\", cornerRadius=7, padding=6,\n",
    "            title=\"Gruppen\"))\n",
    "    )\n",
    "    nearest = alt.selection(type='single', nearest=True, on='mouseover',\n",
    "                            fields=['Tag'], empty='none')\n",
    "    selectors = alt.Chart(data).mark_point().encode(\n",
    "        alt.X(\"Tag\", title=\"Tag\"),\n",
    "        opacity=alt.value(0),\n",
    "    ).add_selection(nearest)\n",
    "    points = line.mark_point().encode(\n",
    "        opacity=alt.condition(nearest, alt.value(1), alt.value(0))\n",
    "    )\n",
    "    text = line.mark_text(align='left', dx=4, dy=-8).encode(\n",
    "        text=alt.condition(nearest, 'Fallzahl:Q', alt.value(' '))\n",
    "    )\n",
    "    rules = alt.Chart(data).mark_rule(color='gray').encode(\n",
    "        alt.X(\"Tag\", title=\"Tag\"),\n",
    "    ).transform_filter(nearest)\n",
    "    date_text = rules.mark_text(align='left', dx=4, dy=-8).encode(\n",
    "        y=alt.value(16),\n",
    "        color=alt.value('gray'),\n",
    "        text=alt.condition(nearest, 'Tag', alt.value(' '))\n",
    "    )\n",
    "    return alt.layer(\n",
    "        line, selectors, points, rules, text, date_text\n",
    "    ).properties(width=width, height=height)\n",
    "\n",
    "def save_and_display_iframe(chart, filename):\n",
    "    chart.save(os.path.join(\"charts\", filename + \".svg\"))\n",
    "    chart.save(os.path.join(\"charts\", filename + \".png\"))\n",
    "    chart.save(os.path.join(\"charts\", filename + \".html\"))\n",
    "    return IFrame(src=os.path.join(\"charts\", filename + \".html\"), width=970, height=475)\n",
    "    \n",
    "chart = plot(seir_data)\n",
    "save_and_display_iframe(chart, \"fit-quality\")"
   ]
  },
  {
   "cell_type": "markdown",
   "metadata": {},
   "source": [
    "Im Diagramm ist leicht zu sehen, dass das Modell den echten Zahlen mit geringen Abweichungen folgt.\n",
    "\n",
    "Auf dieser Basis kann man nun eine Prognose für die nächsten 800 Tage berechnen:"
   ]
  },
  {
   "cell_type": "code",
   "execution_count": 8,
   "metadata": {},
   "outputs": [
    {
     "data": {
      "text/html": [
       "\n",
       "        <iframe\n",
       "            width=\"970\"\n",
       "            height=\"475\"\n",
       "            src=\"charts/800_days.html\"\n",
       "            frameborder=\"0\"\n",
       "            allowfullscreen\n",
       "        ></iframe>\n",
       "        "
      ],
      "text/plain": [
       "<IPython.lib.display.IFrame at 0x7f7633171be0>"
      ]
     },
     "execution_count": 8,
     "metadata": {},
     "output_type": "execute_result"
    }
   ],
   "source": [
    "def prediction(prediction_days=365, max_val=bev_de, r3=r2, r4=r2,\n",
    "               it1 = dt.datetime(year=2020, month=3, day=20),\n",
    "               it2 = dt.datetime(year=2020, month=3, day=28),\n",
    "               it3 = dt.datetime(year=2020, month=4, day=20),\n",
    "               it4 = dt.datetime(year=2020, month=4, day=20)):\n",
    "    cases = np.array(data[\"Fallzahl\"])\n",
    "    times = np.arange(0., len(cases), 1.0)\n",
    "    model = SEIR(p0=(bev_de-data[\"Fallzahl\"][0], 0, data[\"Fallzahl\"][0], 0),\n",
    "                 intervention_times=[(it1-data[\"Tag\"][0]).days, \n",
    "                                     (it2-data[\"Tag\"][0]).days, \n",
    "                                     (it3-data[\"Tag\"][0]).days, \n",
    "                                     (it4-data[\"Tag\"][0]).days],\n",
    "                 t_vals=times)\n",
    "    times = np.arange(0., len(cases)+prediction_days, 1.0)\n",
    "    seir_predictions = model.getSEIR(times, [r0, r1, r2, r3, r4], e0)\n",
    "    sum_predictions = np.sum(seir_predictions[:, 1:], axis=1)\n",
    "    dates = [data[\"Tag\"][0] + dt.timedelta(days=i) for i in times]\n",
    "    seir_data = pd.DataFrame(np.concatenate([\n",
    "        np.concatenate([np.stack([dates, clip_values(seir_predictions[:, i], max_val), [t]*len(times)], axis=1)\n",
    "                        for i, t in enumerate([\"Susceptible\", \"Exposed\", \"Infectious\", \"Removed\"])]),\n",
    "        np.stack([dates, clip_values(sum_predictions, max_val), [\"simulierte Summe\"]*len(times)], axis=1)]),\n",
    "        columns=(\"Tag\", \"Fallzahl\", \"Typ\")\n",
    "    )\n",
    "    data[\"Typ\"] = \"gezählte Fälle\"\n",
    "    return seir_data.append(data, ignore_index=True)\n",
    "\n",
    "chart = plot(prediction(prediction_days=800))\n",
    "save_and_display_iframe(chart, \"800_days\")"
   ]
  },
  {
   "cell_type": "markdown",
   "metadata": {},
   "source": [
    "Die flache Kurve zeigt, dass es dank der aktuellen Einschränkungen nur wenige gleichzeitige Infektionen geben wird. Das Gesundheitssystem wird mit einem so flachen Peak fertig werden.\n",
    "\n",
    "Spektakulärer wird die Kurve, wenn die Einschränkungen am 20. April enden würden, was $R_{0}$ auf den Wert vor dem 20. März erhöht:"
   ]
  },
  {
   "cell_type": "code",
   "execution_count": 9,
   "metadata": {},
   "outputs": [
    {
     "data": {
      "text/html": [
       "\n",
       "        <iframe\n",
       "            width=\"970\"\n",
       "            height=\"475\"\n",
       "            src=\"charts/second_peak.html\"\n",
       "            frameborder=\"0\"\n",
       "            allowfullscreen\n",
       "        ></iframe>\n",
       "        "
      ],
      "text/plain": [
       "<IPython.lib.display.IFrame at 0x7f7630da75b0>"
      ]
     },
     "execution_count": 9,
     "metadata": {},
     "output_type": "execute_result"
    }
   ],
   "source": [
    "chart = plot(prediction(prediction_days=100, r3=r0, r4=r0), legendY=50)\n",
    "save_and_display_iframe(chart, \"second_peak\")"
   ]
  },
  {
   "cell_type": "markdown",
   "metadata": {},
   "source": [
    "Schränkt man die Werte noch etwas ein, wird der enorme Peak sichtbar:"
   ]
  },
  {
   "cell_type": "code",
   "execution_count": 10,
   "metadata": {},
   "outputs": [
    {
     "data": {
      "text/html": [
       "\n",
       "        <iframe\n",
       "            width=\"970\"\n",
       "            height=\"475\"\n",
       "            src=\"charts/second_peak_detail.html\"\n",
       "            frameborder=\"0\"\n",
       "            allowfullscreen\n",
       "        ></iframe>\n",
       "        "
      ],
      "text/plain": [
       "<IPython.lib.display.IFrame at 0x7f7668289c40>"
      ]
     },
     "execution_count": 10,
     "metadata": {},
     "output_type": "execute_result"
    }
   ],
   "source": [
    "chart = plot(prediction(prediction_days=80, max_val=23000000, r3=r0, r4=r0))\n",
    "save_and_display_iframe(chart, \"second_peak_detail\")"
   ]
  },
  {
   "cell_type": "markdown",
   "metadata": {},
   "source": [
    "Nun zu ein paar Rechenmodellen zum Herumspielen: `it3` und `it4` sind zwei Tage, an denen Maßnahmen gelockert werden. Wir haben mal den 1. Januar 2021 voreingestellt, ab dem wieder nur Ausgangsbeschränkungen gelten. Das heißt `r3=r1`, da sie Reproduktionszahl $R_{0}$ wieder auf den Wert vor der Kontaktsperre klettert, sobald diese aufgehoben wird. Da die Ausbreitung dann durch die Ausgangsbeschränkungen weiter gebremst bleibt, ergibt sich ein zweiter Ausbruch, der aber nicht so steil ansteigt, wie ohne Einschränkungen.\n",
    "\n",
    "Am 20. Februar 2021 (`it4`) werden in unserer Vorereinstellung auch die Ausgangsbeschränkungen aufgehoben. $R_{0}$ steigt daher wieder auf den Wert vor allen Maßnahmen, also ist `r4=r0`.\n",
    "\n",
    "Zusätzlich können Sie noch mit `prediction_days` einstellen, wie weit die Simulation in die Zukunft rechnet. `max_val` blendet zu hohe Werte im Diagramm aus, damit die y-Achse keinen zu großen Werteberech abbilden muss und man kleinere Kurven besser erkennt.\n",
    "\n",
    "Spielen Sie ruhig mit den Werten hinter den Kommentaren herum und erstellen Sie eigene Szenarien für die Lockerung der Einschränkungen:"
   ]
  },
  {
   "cell_type": "code",
   "execution_count": 11,
   "metadata": {},
   "outputs": [
    {
     "data": {
      "text/html": [
       "\n",
       "        <iframe\n",
       "            width=\"970\"\n",
       "            height=\"475\"\n",
       "            src=\"charts/lose-restrictions.html\"\n",
       "            frameborder=\"0\"\n",
       "            allowfullscreen\n",
       "        ></iframe>\n",
       "        "
      ],
      "text/plain": [
       "<IPython.lib.display.IFrame at 0x7f7668289f10>"
      ]
     },
     "execution_count": 11,
     "metadata": {},
     "output_type": "execute_result"
    }
   ],
   "source": [
    "# Tag der Aufhebung der Kontaktsperre\n",
    "it3 = dt.datetime(year=2021, month=1, day=1)\n",
    "# Erwartete Reproduktionszahl nach Aufhebung der Kontaktsperre\n",
    "r3 = r1\n",
    "\n",
    "# Tag der Aufhebung der Ausgangsbeschränkungen\n",
    "it4 = dt.datetime(year=2021, month=2, day=20)\n",
    "# Erwartete Reproduktionszahl nach Aufhebung der Kontaktsperre\n",
    "r4 = r0\n",
    "\n",
    "# Zahl der Tage, die die Simulation in die Zukunft berechnet\n",
    "prediction_days=500\n",
    "# Höchster Wert im Diagramm (damit die y-Achse die interessanten Werte nicht zu sehr staucht)\n",
    "max_val=12000000\n",
    "\n",
    "chart = plot(prediction(prediction_days=prediction_days, max_val=max_val, r3=r3, r4=r4, it3 = it3, it4 = it4))\n",
    "save_and_display_iframe(chart, \"lose-restrictions\")"
   ]
  },
  {
   "cell_type": "markdown",
   "metadata": {},
   "source": [
    "Für eine interessante Variante der Simulation stellen Sie $R_{0}$ einfach mal auf Werte ein, die nicht von `curve_fit()` berechnet wurden. Beispielsweise sorgen nach den Interventionstagen Werte für $R_{0}$, die kleiner als 1 sind dafür, dass der Peak an diesem tag vorbei ist. Für sehr kleine $R_{0}$ würde beispielsweise ein genaues Tracking und Isolieren der Infizierten sorgen. Das folgende Diagramm ist wegen der erfundenen Werte aber rein hypothetisch:"
   ]
  },
  {
   "cell_type": "code",
   "execution_count": 12,
   "metadata": {},
   "outputs": [
    {
     "data": {
      "text/html": [
       "\n",
       "        <iframe\n",
       "            width=\"970\"\n",
       "            height=\"475\"\n",
       "            src=\"charts/dreamed-infection-rates.html\"\n",
       "            frameborder=\"0\"\n",
       "            allowfullscreen\n",
       "        ></iframe>\n",
       "        "
      ],
      "text/plain": [
       "<IPython.lib.display.IFrame at 0x7f7668280ca0>"
      ]
     },
     "execution_count": 12,
     "metadata": {},
     "output_type": "execute_result"
    }
   ],
   "source": [
    "# Tag der Aufhebung der Kontaktsperre\n",
    "it3 = dt.datetime(year=2020, month=5, day=1)\n",
    "# Erwartete Reproduktionszahl nach Aufhebung der Kontaktsperre\n",
    "r3 = 0.99\n",
    "\n",
    "# Tag der Aufhebung der Ausgangsbeschränkungen\n",
    "it4 = dt.datetime(year=2020, month=7, day=1)\n",
    "# Erwartete Reproduktionszahl nach Aufhebung der Kontaktsperre\n",
    "r4 = 0.75\n",
    "\n",
    "# Zahl der Tage, die die Simulation in die Zukunft berechnet\n",
    "prediction_days=150\n",
    "# Höchster Wert im Diagramm (damit die y-Achse die interessanten Werte nicht zu sehr staucht)\n",
    "max_val=800000\n",
    "\n",
    "plot(prediction(prediction_days=prediction_days, max_val=max_val, r3=r3, r4=r4, it3 = it3, it4 = it4))\n",
    "save_and_display_iframe(chart, \"dreamed-infection-rates\")"
   ]
  },
  {
   "cell_type": "code",
   "execution_count": null,
   "metadata": {},
   "outputs": [],
   "source": []
  }
 ],
 "metadata": {
  "kernelspec": {
   "display_name": "Python 3",
   "language": "python",
   "name": "python3"
  },
  "language_info": {
   "codemirror_mode": {
    "name": "ipython",
    "version": 3
   },
   "file_extension": ".py",
   "mimetype": "text/x-python",
   "name": "python",
   "nbconvert_exporter": "python",
   "pygments_lexer": "ipython3",
   "version": "3.8.2"
  }
 },
 "nbformat": 4,
 "nbformat_minor": 4
}
